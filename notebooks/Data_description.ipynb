{
 "cells": [
  {
   "cell_type": "markdown",
   "metadata": {
    "id": "QjkxrK5UYkwz"
   },
   "source": [
    "### Data Loading"
   ]
  },
  {
   "cell_type": "code",
   "execution_count": 1,
   "metadata": {
    "colab": {
     "background_save": true
    },
    "id": "8zVo5ws5abLa"
   },
   "outputs": [],
   "source": [
    "import pandas as pd\n",
    "pd.options.display.max_columns = 999\n",
    "pd.options.display.max_rows = 999\n",
    "pd.options.display.max_colwidth = 50\n",
    "import numpy as np "
   ]
  },
  {
   "cell_type": "code",
   "execution_count": 2,
   "metadata": {
    "colab": {
     "base_uri": "https://localhost:8080/"
    },
    "id": "uMLsOoc1ldXi",
    "outputId": "ec95c4c0-7826-4508-b726-1d61273fba63"
   },
   "outputs": [
    {
     "name": "stdout",
     "output_type": "stream",
     "text": [
      "Requirement already satisfied: pyspark in c:\\users\\arnau\\anaconda3\\lib\\site-packages (3.1.2)\n",
      "Requirement already satisfied: py4j==0.10.9 in c:\\users\\arnau\\anaconda3\\lib\\site-packages (from pyspark) (0.10.9)\n"
     ]
    }
   ],
   "source": [
    "!pip install pyspark\n",
    "from pyspark.sql import SparkSession\n",
    "\n",
    "spark = SparkSession.builder.getOrCreate()"
   ]
  },
  {
   "cell_type": "code",
   "execution_count": 3,
   "metadata": {
    "id": "FRhFUTGpas3o"
   },
   "outputs": [],
   "source": [
    "git_commit = spark.read.csv('../data/GIT_COMMITS.csv',header=True)\n",
    "changes = spark.read.csv('../data/GIT_COMMITS_CHANGES.csv',header=True)\n",
    "ref_miner = spark.read.csv('../data/REFACTORING_MINER.csv',header=True)"
   ]
  },
  {
   "cell_type": "markdown",
   "metadata": {
    "id": "SeBroSCJZB5-"
   },
   "source": [
    "### GIT_COMMITS\n",
    "\n",
    "This table reports the commit information retrieved from the git log. 193,152 rows.\n",
    "\n",
    "1. COMMIT_HASH str: (PK) Hash that identifies the commit. We will use it to get information of the commit from other tables.\n",
    "\n",
    "2. COMMIT_MESSAGE str: Message summarizing the changes introduced with the commit. This is what we will try to predict with our model.\n",
    "\n",
    "3. PARENTS str: Commit hash of the previous commit. Information from previous commits may be helpful in finding a message for the commit by giving information on style or content."
   ]
  },
  {
   "cell_type": "code",
   "execution_count": 4,
   "metadata": {
    "colab": {
     "base_uri": "https://localhost:8080/"
    },
    "id": "rX6mZzxAlCcY",
    "outputId": "0dc0265a-619b-4ae5-ac40-1e950638f41b"
   },
   "outputs": [
    {
     "name": "stdout",
     "output_type": "stream",
     "text": [
      "root\n",
      " |-- PROJECT_ID: string (nullable = true)\n",
      " |-- COMMIT_HASH: string (nullable = true)\n",
      " |-- COMMIT_MESSAGE: string (nullable = true)\n",
      " |-- AUTHOR: string (nullable = true)\n",
      " |-- AUTHOR_DATE: string (nullable = true)\n",
      " |-- AUTHOR_TIMEZONE: string (nullable = true)\n",
      " |-- COMMITTER: string (nullable = true)\n",
      " |-- COMMITER_DATE: string (nullable = true)\n",
      " |-- COMMITTER_TIMEZONE: string (nullable = true)\n",
      " |-- BRANCHES: string (nullable = true)\n",
      " |-- IN_MAIN_BRANCH: string (nullable = true)\n",
      " |-- MERGE: string (nullable = true)\n",
      " |-- PARENTS: string (nullable = true)\n",
      "\n"
     ]
    }
   ],
   "source": [
    "git_commit.printSchema()"
   ]
  },
  {
   "cell_type": "code",
   "execution_count": 5,
   "metadata": {
    "id": "ULWhucb1e76N"
   },
   "outputs": [],
   "source": [
    "git_commit = git_commit.drop('PROJECT_ID')\n",
    "git_commit = git_commit.drop('AUTHOR')\n",
    "git_commit = git_commit.drop('AUTHOR_DATE')\n",
    "git_commit = git_commit.drop('AUTHOR_TIMEZONE')\n",
    "git_commit = git_commit.drop('COMMITTER')\n",
    "git_commit = git_commit.drop('COMMITTER_DATE')\n",
    "git_commit = git_commit.drop('COMMITTER_TIMEZONE')\n",
    "git_commit = git_commit.drop('BRANCHES')\n",
    "git_commit = git_commit.drop('IN_MAIN_BRANCH')\n",
    "git_commit = git_commit.drop('MERGE')"
   ]
  },
  {
   "cell_type": "code",
   "execution_count": 6,
   "metadata": {
    "colab": {
     "base_uri": "https://localhost:8080/"
    },
    "id": "fYZCY-uyeAAK",
    "outputId": "7c52d326-d664-45cd-9d15-416c96cff5a0"
   },
   "outputs": [
    {
     "name": "stdout",
     "output_type": "stream",
     "text": [
      "+--------------------+--------------------+-------------+-------+\n",
      "|         COMMIT_HASH|      COMMIT_MESSAGE|COMMITER_DATE|PARENTS|\n",
      "+--------------------+--------------------+-------------+-------+\n",
      "|52fc76012c5f96914...|New repository in...|         null|   null|\n",
      "|           No Author|2000-10-01T07:37:01Z|    ['trunk']|   null|\n",
      "|b1ff4af6abfec32fc...|    Initial revision|         null|   null|\n",
      "|James Duncan Davi...|2000-10-01T07:37:01Z|    ['trunk']|   null|\n",
      "|c8d7a13470987f892...|              Update|         null|   null|\n",
      "|                null|                null|         null|   null|\n",
      "|James Duncan Davi...|2000-10-01T07:40:39Z|    ['trunk']|   null|\n",
      "|93a16402b48ae1cf7...|Added question li...|         null|   null|\n",
      "|                null|                null|         null|   null|\n",
      "|James Duncan Davi...|2000-10-01T08:15:04Z|    ['trunk']|   null|\n",
      "|fcaecb541edc03f36...|      testing commit|         null|   null|\n",
      "|        Dean Jackson|2000-10-02T13:33:11Z|    ['trunk']|   null|\n",
      "|2ecc354fa4f3209ad...|undoing the test ...|         null|   null|\n",
      "|        Dean Jackson|2000-10-02T13:39:12Z|    ['trunk']|   null|\n",
      "|49e6a3ce306eedc07...|    Initial revision|         null|   null|\n",
      "|    Stephane Hillion|2000-10-10T18:36:52Z|    ['trunk']|   null|\n",
      "|d4aa2faa0f192f447...|    Initial revision|         null|   null|\n",
      "|    Stephane Hillion|2000-10-10T18:37:49Z|    ['trunk']|   null|\n",
      "|7431b8b4e80cd9457...|    Initial checkin.|         null|   null|\n",
      "|                null|                null|         null|   null|\n",
      "+--------------------+--------------------+-------------+-------+\n",
      "only showing top 20 rows\n",
      "\n"
     ]
    }
   ],
   "source": [
    "git_commit.show()"
   ]
  },
  {
   "cell_type": "code",
   "execution_count": 7,
   "metadata": {
    "colab": {
     "base_uri": "https://localhost:8080/"
    },
    "id": "o-vtdzO5n0Y3",
    "outputId": "941f800d-81a7-4577-d705-3881c7d90034"
   },
   "outputs": [
    {
     "data": {
      "text/plain": [
       "193152"
      ]
     },
     "execution_count": 7,
     "metadata": {},
     "output_type": "execute_result"
    }
   ],
   "source": [
    "git_commit.count()"
   ]
  },
  {
   "cell_type": "code",
   "execution_count": 8,
   "metadata": {
    "colab": {
     "base_uri": "https://localhost:8080/"
    },
    "id": "wl16PisAatAk",
    "outputId": "52326727-97b6-43b8-b288-8d3bd39a1b8a"
   },
   "outputs": [
    {
     "name": "stdout",
     "output_type": "stream",
     "text": [
      "+-------+------------------+-----------------+--------------------+--------------------+\n",
      "|summary|       COMMIT_HASH|   COMMIT_MESSAGE|       COMMITER_DATE|             PARENTS|\n",
      "+-------+------------------+-----------------+--------------------+--------------------+\n",
      "|  count|            158353|           154523|               81075|                8357|\n",
      "|   mean|17309.403846153848|9555.553846153847|   7542.857142857143|                null|\n",
      "| stddev|14023.909084145711|13707.12340668259|  13798.136520145445|                null|\n",
      "|    min|                  |                 | Client B should ...|['000b111922ccb9c...|\n",
      "|    25%|               3.0|              4.0|             -3600.0|                null|\n",
      "|    50%|           18548.0|             10.0|             -3600.0|                null|\n",
      "|    75%|           30580.0|          18640.0|             21600.0|                null|\n",
      "|    max|            이종현|      zoom icons.|org.apache.felix....|                  []|\n",
      "+-------+------------------+-----------------+--------------------+--------------------+\n",
      "\n"
     ]
    }
   ],
   "source": [
    "git_commit.summary().show()"
   ]
  },
  {
   "cell_type": "markdown",
   "metadata": {
    "id": "9dMOrFywZB8B"
   },
   "source": [
    "### GIT_COMMITS_CHANGES\n",
    "\n",
    "This table contains the changes performed on each commit. 890,223 rows.\n",
    "\n",
    "1. COMMIT_HASH str: (FK) Hash that identifies the commit. Used to join with other tables.\n",
    "\n",
    "2. LINES_ADDED int: Number of new lines added in the commit. Predictive varibale. The mean number of lines added is of $39.10$, with a standrad deviation of $331.83$.\n",
    "\n",
    "3. LINES_REMOVED int: Number of lines removed in the commit. Predictive varibale. The mean value of lines removed is of $25.04$ with a standard deviation of $276.42$.\n",
    "\n",
    "4. FILE str: The full path to the modified file. Predictive varibale."
   ]
  },
  {
   "cell_type": "code",
   "execution_count": 9,
   "metadata": {
    "colab": {
     "base_uri": "https://localhost:8080/"
    },
    "id": "4XhO2S5NltUo",
    "outputId": "194c34ed-a9ec-48f7-fe19-ca7f8b54ec8a"
   },
   "outputs": [
    {
     "name": "stdout",
     "output_type": "stream",
     "text": [
      "root\n",
      " |-- PROJECT_ID: string (nullable = true)\n",
      " |-- FILE: string (nullable = true)\n",
      " |-- COMMIT_HASH: string (nullable = true)\n",
      " |-- DATE: string (nullable = true)\n",
      " |-- COMMITTER_ID: string (nullable = true)\n",
      " |-- LINES_ADDED: string (nullable = true)\n",
      " |-- LINES_REMOVED: string (nullable = true)\n",
      " |-- NOTE: string (nullable = true)\n",
      "\n"
     ]
    }
   ],
   "source": [
    "changes.printSchema()"
   ]
  },
  {
   "cell_type": "code",
   "execution_count": 10,
   "metadata": {
    "id": "jN6EzGKkizFB"
   },
   "outputs": [],
   "source": [
    "changes = changes.drop('PROJECT_ID')\n",
    "changes = changes.drop('DATE')\n",
    "changes = changes.drop('COMMITTER_ID')\n",
    "changes = changes.drop('NOTE')"
   ]
  },
  {
   "cell_type": "code",
   "execution_count": 11,
   "metadata": {
    "colab": {
     "base_uri": "https://localhost:8080/"
    },
    "id": "yBjWOkEfjKXs",
    "outputId": "47d4ae1b-9558-4375-cdad-932bda229cdb"
   },
   "outputs": [
    {
     "name": "stdout",
     "output_type": "stream",
     "text": [
      "+--------------------+--------------------+-----------+-------------+\n",
      "|                FILE|         COMMIT_HASH|LINES_ADDED|LINES_REMOVED|\n",
      "+--------------------+--------------------+-----------+-------------+\n",
      "|              README|b1ff4af6abfec32fc...|          2|            0|\n",
      "|              README|c8d7a13470987f892...|          4|            1|\n",
      "|              README|93a16402b48ae1cf7...|          3|            0|\n",
      "|              README|fcaecb541edc03f36...|          1|            0|\n",
      "|              README|2ecc354fa4f3209ad...|          0|            2|\n",
      "|sources/org/apach...|49e6a3ce306eedc07...|         43|            0|\n",
      "|sources/org/apach...|49e6a3ce306eedc07...|        147|            0|\n",
      "|sources/org/apach...|49e6a3ce306eedc07...|        163|            0|\n",
      "|sources/org/apach...|49e6a3ce306eedc07...|        765|            0|\n",
      "|sources/org/apach...|49e6a3ce306eedc07...|         18|            0|\n",
      "|sources/org/apach...|49e6a3ce306eedc07...|        141|            0|\n",
      "|sources/org/apach...|49e6a3ce306eedc07...|        135|            0|\n",
      "|sources/org/apach...|49e6a3ce306eedc07...|         36|            0|\n",
      "|sources/org/apach...|49e6a3ce306eedc07...|         35|            0|\n",
      "|sources/org/apach...|49e6a3ce306eedc07...|         35|            0|\n",
      "|sources/org/apach...|49e6a3ce306eedc07...|         64|            0|\n",
      "|sources/org/apach...|49e6a3ce306eedc07...|         29|            0|\n",
      "|sources/org/apach...|49e6a3ce306eedc07...|         40|            0|\n",
      "|sources/org/apach...|49e6a3ce306eedc07...|         37|            0|\n",
      "|sources/org/apach...|49e6a3ce306eedc07...|         35|            0|\n",
      "+--------------------+--------------------+-----------+-------------+\n",
      "only showing top 20 rows\n",
      "\n"
     ]
    }
   ],
   "source": [
    "changes.show()"
   ]
  },
  {
   "cell_type": "code",
   "execution_count": 12,
   "metadata": {
    "colab": {
     "base_uri": "https://localhost:8080/"
    },
    "id": "F0Tg0mm7qOCQ",
    "outputId": "fd7f70a0-a16e-4938-e739-77de18db44fe"
   },
   "outputs": [
    {
     "name": "stdout",
     "output_type": "stream",
     "text": [
      "+-------+--------------------+--------------------+------------------+------------------+\n",
      "|summary|                FILE|         COMMIT_HASH|       LINES_ADDED|     LINES_REMOVED|\n",
      "+-------+--------------------+--------------------+------------------+------------------+\n",
      "|  count|              857742|              857742|            857742|            857742|\n",
      "|   mean|                null|                null| 39.10055587810787|25.042489466529563|\n",
      "| stddev|                null|                null|331.82663785721223| 276.4222138288266|\n",
      "|    min|         ,travis.yml|00016b9ca1063feea...|                 0|                 0|\n",
      "|    25%|                null|                null|               1.0|               0.0|\n",
      "|    50%|                null|                null|               3.0|               1.0|\n",
      "|    75%|                null|                null|              18.0|               7.0|\n",
      "|    max|zookeeper/zookeep...|fffffc63bcf57852c...|              9999|               999|\n",
      "+-------+--------------------+--------------------+------------------+------------------+\n",
      "\n"
     ]
    }
   ],
   "source": [
    "changes.summary().show()"
   ]
  },
  {
   "cell_type": "code",
   "execution_count": 13,
   "metadata": {
    "colab": {
     "base_uri": "https://localhost:8080/"
    },
    "id": "aDlWlsIXas9u",
    "outputId": "5a5dca78-46f4-4200-bb51-cb7ca52c7ff7"
   },
   "outputs": [
    {
     "data": {
      "text/plain": [
       "890223"
      ]
     },
     "execution_count": 13,
     "metadata": {},
     "output_type": "execute_result"
    }
   ],
   "source": [
    "changes.count()"
   ]
  },
  {
   "cell_type": "markdown",
   "metadata": {
    "id": "8qy84E3_ZB9v"
   },
   "source": [
    "### REFACTORING_MINER\n",
    "\n",
    "This table reports the list of refactoring activities applied in the studied repositories. 37226 rows.\n",
    "\n",
    "1. COMMIT_HASH str: (FK) Hash that identifies the commit. Used to join with other tables.\n",
    "\n",
    "2. REFACTORING_TYPE str: One of the 15 types of refactoring detectable by Refactoring Miner. Predictive Variable.\n",
    "\n",
    "3. REFACTORING_DETAIL str: Short description of the refactoring. Predictive Variable."
   ]
  },
  {
   "cell_type": "code",
   "execution_count": 14,
   "metadata": {
    "colab": {
     "base_uri": "https://localhost:8080/"
    },
    "id": "FQGe4smhrSmv",
    "outputId": "078c15d4-c362-4f86-b769-92d61ae147e9"
   },
   "outputs": [
    {
     "name": "stdout",
     "output_type": "stream",
     "text": [
      "root\n",
      " |-- PROJECT_ID: string (nullable = true)\n",
      " |-- COMMIT_HASH: string (nullable = true)\n",
      " |-- REFACTORING_TYPE: string (nullable = true)\n",
      " |-- REFACTORING_DETAIL: string (nullable = true)\n",
      "\n"
     ]
    }
   ],
   "source": [
    "ref_miner.printSchema()"
   ]
  },
  {
   "cell_type": "code",
   "execution_count": 15,
   "metadata": {
    "id": "zrdrbMD5mMMY"
   },
   "outputs": [],
   "source": [
    "ref_miner = ref_miner.drop('PROJECT_ID')"
   ]
  },
  {
   "cell_type": "code",
   "execution_count": 16,
   "metadata": {
    "colab": {
     "base_uri": "https://localhost:8080/"
    },
    "id": "yeJuQQ4jlKJO",
    "outputId": "748038d3-dd9a-4b3e-89d6-c54239f657f7"
   },
   "outputs": [
    {
     "name": "stdout",
     "output_type": "stream",
     "text": [
      "+--------------------+------------------+--------------------+\n",
      "|         COMMIT_HASH|  REFACTORING_TYPE|  REFACTORING_DETAIL|\n",
      "+--------------------+------------------+--------------------+\n",
      "|adbabd6f8adad3f9d...|        Move Class|Move Class\torg.ap...|\n",
      "|23df647cf944b6c33...|        Move Class|Move Class\torg.w3...|\n",
      "|23df647cf944b6c33...|        Move Class|Move Class\torg.w3...|\n",
      "|23df647cf944b6c33...|        Move Class|Move Class\torg.w3...|\n",
      "|23df647cf944b6c33...|        Move Class|Move Class\torg.w3...|\n",
      "|0a2576bbf0225626c...|        Move Class|Move Class\torg.w3...|\n",
      "|0a2576bbf0225626c...|        Move Class|Move Class\torg.w3...|\n",
      "|0a2576bbf0225626c...|        Move Class|Move Class\torg.w3...|\n",
      "|9def38fe5050ce58c...|        Move Class|Move Class\torg.ap...|\n",
      "|9def38fe5050ce58c...| Pull Up Attribute|Pull Up Attribute...|\n",
      "|9def38fe5050ce58c...|Extract Superclass|Extract Superclas...|\n",
      "|9def38fe5050ce58c...|    Extract Method|Extract Method\tpr...|\n",
      "|9def38fe5050ce58c...|    Extract Method|Extract Method\tpu...|\n",
      "|9def38fe5050ce58c...|    Pull Up Method|Pull Up Method\tpu...|\n",
      "|9def38fe5050ce58c...| Pull Up Attribute|Pull Up Attribute...|\n",
      "|a0dd0a5298bb84475...|Move Source Folder|Move Source Folde...|\n",
      "|1661dbe6278577d34...|Move Source Folder|Move Source Folde...|\n",
      "|1661dbe6278577d34...|Move Source Folder|Move Source Folde...|\n",
      "|49d15d8f0c66f1b41...|Move Source Folder|Move Source Folde...|\n",
      "|49d15d8f0c66f1b41...|Move Source Folder|Move Source Folde...|\n",
      "+--------------------+------------------+--------------------+\n",
      "only showing top 20 rows\n",
      "\n"
     ]
    }
   ],
   "source": [
    "ref_miner.show()"
   ]
  },
  {
   "cell_type": "code",
   "execution_count": 17,
   "metadata": {
    "colab": {
     "base_uri": "https://localhost:8080/"
    },
    "id": "cR7oGEPRoA--",
    "outputId": "aebf5b39-da73-4c78-adca-5a60889e31c7"
   },
   "outputs": [
    {
     "data": {
      "text/plain": [
       "37226"
      ]
     },
     "execution_count": 17,
     "metadata": {},
     "output_type": "execute_result"
    }
   ],
   "source": [
    "ref_miner.count()"
   ]
  }
 ],
 "metadata": {
  "colab": {
   "collapsed_sections": [
    "QjkxrK5UYkwz",
    "SeBroSCJZB5-",
    "9dMOrFywZB8B",
    "8qy84E3_ZB9v"
   ],
   "name": "Data_description",
   "provenance": []
  },
  "kernelspec": {
   "display_name": "Python 3",
   "language": "python",
   "name": "python3"
  },
  "language_info": {
   "codemirror_mode": {
    "name": "ipython",
    "version": 3
   },
   "file_extension": ".py",
   "mimetype": "text/x-python",
   "name": "python",
   "nbconvert_exporter": "python",
   "pygments_lexer": "ipython3",
   "version": "3.8.5"
  }
 },
 "nbformat": 4,
 "nbformat_minor": 1
}
