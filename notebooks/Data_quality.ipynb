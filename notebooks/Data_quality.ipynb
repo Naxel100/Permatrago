{
 "cells": [
  {
   "cell_type": "markdown",
   "metadata": {
    "id": "kcR3HOUambLq"
   },
   "source": [
    "# DATA QUALITY\n",
    "---\n",
    "\n"
   ]
  },
  {
   "cell_type": "markdown",
   "metadata": {
    "id": "lfDtyZoPrvvz"
   },
   "source": [
    "## 0. IMPORT DATA"
   ]
  },
  {
   "cell_type": "code",
   "execution_count": 1,
   "metadata": {
    "colab": {
     "base_uri": "https://localhost:8080/"
    },
    "executionInfo": {
     "elapsed": 45813,
     "status": "ok",
     "timestamp": 1632834414730,
     "user": {
      "displayName": "Marc Fuentes Oncins",
      "photoUrl": "https://lh3.googleusercontent.com/a/default-user=s64",
      "userId": "09065611977995448229"
     },
     "user_tz": -120
    },
    "id": "7474ChZyao45",
    "outputId": "165b5a7a-1c32-4c6f-fb5f-9183db6700e1"
   },
   "outputs": [
    {
     "name": "stdout",
     "output_type": "stream",
     "text": [
      "Requirement already satisfied: pyspark in c:\\users\\arnau\\anaconda3\\lib\\site-packages (3.1.2)\n",
      "Requirement already satisfied: py4j==0.10.9 in c:\\users\\arnau\\anaconda3\\lib\\site-packages (from pyspark) (0.10.9)\n"
     ]
    }
   ],
   "source": [
    "!pip install pyspark\n",
    "from pyspark.sql import SparkSession\n",
    "from pyspark.sql.functions import isnan, when, count, col, sum\n",
    "\n",
    "spark = SparkSession.builder.getOrCreate()"
   ]
  },
  {
   "cell_type": "code",
   "execution_count": 2,
   "metadata": {
    "id": "B13zH70jbWk2"
   },
   "outputs": [],
   "source": [
    "git_commit = spark.read.csv('../data/GIT_COMMITS.csv',header=True)\n",
    "changes = spark.read.csv('../data/GIT_COMMITS_CHANGES.csv',header=True)\n",
    "ref_miner = spark.read.csv('../data/REFACTORING_MINER.csv',header=True)"
   ]
  },
  {
   "cell_type": "markdown",
   "metadata": {
    "id": "Ty-y69cTaTt6"
   },
   "source": [
    "## 1. GIT_COMMITS"
   ]
  },
  {
   "cell_type": "code",
   "execution_count": 3,
   "metadata": {
    "id": "LQb3UUBpaWlD"
   },
   "outputs": [],
   "source": [
    "git_commit = git_commit.drop('PROJECT_ID')\n",
    "git_commit = git_commit.drop('AUTHOR')\n",
    "git_commit = git_commit.drop('AUTHOR_DATE')\n",
    "git_commit = git_commit.drop('AUTHOR_TIMEZONE')\n",
    "git_commit = git_commit.drop('COMMITTER')\n",
    "git_commit = git_commit.drop('COMMITER_DATE')\n",
    "git_commit = git_commit.drop('COMMITTER_TIMEZONE')\n",
    "git_commit = git_commit.drop('BRANCHES')\n",
    "git_commit = git_commit.drop('IN_MAIN_BRANCH')\n",
    "git_commit = git_commit.drop('MERGE')"
   ]
  },
  {
   "cell_type": "markdown",
   "metadata": {
    "id": "t2c83DfVgomz"
   },
   "source": [
    "#### Check for duplicate values."
   ]
  },
  {
   "cell_type": "code",
   "execution_count": 4,
   "metadata": {
    "colab": {
     "base_uri": "https://localhost:8080/"
    },
    "executionInfo": {
     "elapsed": 8628,
     "status": "ok",
     "timestamp": 1632754275091,
     "user": {
      "displayName": "Marc Fuentes Oncins",
      "photoUrl": "https://lh3.googleusercontent.com/a/default-user=s64",
      "userId": "09065611977995448229"
     },
     "user_tz": -120
    },
    "id": "mSBlGUWmgqSk",
    "outputId": "ed4af2d3-4185-4538-b66b-963eb8d137d4"
   },
   "outputs": [
    {
     "name": "stdout",
     "output_type": "stream",
     "text": [
      "DF has : 193152 rows\n",
      "Distinct DF has : 156318 rows\n"
     ]
    }
   ],
   "source": [
    "print(\"DF has :\",git_commit.count(),\"rows\")\n",
    "print(\"Distinct DF has :\",git_commit.distinct().count(),\"rows\")"
   ]
  },
  {
   "cell_type": "code",
   "execution_count": 5,
   "metadata": {
    "colab": {
     "base_uri": "https://localhost:8080/"
    },
    "executionInfo": {
     "elapsed": 16876,
     "status": "ok",
     "timestamp": 1632754291957,
     "user": {
      "displayName": "Marc Fuentes Oncins",
      "photoUrl": "https://lh3.googleusercontent.com/a/default-user=s64",
      "userId": "09065611977995448229"
     },
     "user_tz": -120
    },
    "id": "VMiscAdVmsQN",
    "outputId": "2ec95f33-9339-4cd1-f6d5-ebd8ecbb39c3"
   },
   "outputs": [
    {
     "name": "stdout",
     "output_type": "stream",
     "text": [
      "There are : 36834 duped rows\n"
     ]
    }
   ],
   "source": [
    "print(\"There are :\",git_commit.count()-git_commit.distinct().count(),\"duped rows\")"
   ]
  },
  {
   "cell_type": "markdown",
   "metadata": {
    "id": "Bb-5F7rShr2r"
   },
   "source": [
    "The duplicates could be caused by the column dropping. To check so we will see the number of dupped rows of the original DF and the column filtered one."
   ]
  },
  {
   "cell_type": "code",
   "execution_count": 6,
   "metadata": {
    "id": "29nkOw5RiDiB"
   },
   "outputs": [],
   "source": [
    "git_commit_og = spark.read.csv('../data/GIT_COMMITS.csv',header=True)"
   ]
  },
  {
   "cell_type": "code",
   "execution_count": 7,
   "metadata": {
    "colab": {
     "base_uri": "https://localhost:8080/"
    },
    "executionInfo": {
     "elapsed": 9316,
     "status": "ok",
     "timestamp": 1632754301609,
     "user": {
      "displayName": "Marc Fuentes Oncins",
      "photoUrl": "https://lh3.googleusercontent.com/a/default-user=s64",
      "userId": "09065611977995448229"
     },
     "user_tz": -120
    },
    "id": "tE2vC9ijgx56",
    "outputId": "638cd019-d4d1-4657-c673-ba4e9f0872c2"
   },
   "outputs": [
    {
     "name": "stdout",
     "output_type": "stream",
     "text": [
      "There are : 13288 duped rows in the original DF\n",
      "There are : 36834 duped rows in the new DF\n"
     ]
    }
   ],
   "source": [
    "print(\"There are :\",git_commit_og.count()-git_commit_og.distinct().count(),\"duped rows in the original DF\")\n",
    "print(\"There are :\",git_commit.count()-git_commit.distinct().count(),\"duped rows in the new DF\")"
   ]
  },
  {
   "cell_type": "markdown",
   "metadata": {
    "id": "GCkxy-18iPdC"
   },
   "source": [
    "Check the duped lines for possible patterns."
   ]
  },
  {
   "cell_type": "code",
   "execution_count": 8,
   "metadata": {
    "colab": {
     "base_uri": "https://localhost:8080/"
    },
    "executionInfo": {
     "elapsed": 2282,
     "status": "ok",
     "timestamp": 1632754303773,
     "user": {
      "displayName": "Marc Fuentes Oncins",
      "photoUrl": "https://lh3.googleusercontent.com/a/default-user=s64",
      "userId": "09065611977995448229"
     },
     "user_tz": -120
    },
    "id": "UgXtS1wOixjF",
    "outputId": "2d4b18c5-a4b6-4a40-c60b-a875710bf9a7"
   },
   "outputs": [
    {
     "name": "stdout",
     "output_type": "stream",
     "text": [
      "+--------------------+--------------------+-------+-----+\n",
      "|         COMMIT_HASH|      COMMIT_MESSAGE|PARENTS|count|\n",
      "+--------------------+--------------------+-------+-----+\n",
      "|    Sebastian Bazley|2014-08-28T23:09:12Z|   null|    2|\n",
      "| the deprecated c...|Expression}Factor...|   null|    2|\n",
      "|                  so|                null|   null|    3|\n",
      "|       Henri Yandell|2006-01-24T14:29:48Z|   null|   17|\n",
      "|     COLLECTIONS-253|     COLLECTIONS-293|   null|   15|\n",
      "| from Dimiter Dim...|                null|   null|    2|\n",
      "|   from Nathan Beyer|                null|   null|    3|\n",
      "| 11 Sep 2009) | 1...|                null|   null|   14|\n",
      "|                  it|                null|   null|    4|\n",
      "|                 Get| and IterableGet ...|   null|    4|\n",
      "|    Sebastian Bazley|2012-03-07T00:08:20Z|   null|    2|\n",
      "|       Henri Yandell|2007-07-29T20:14:22Z|   null|   16|\n",
      "|                   a|                null|   null|    2|\n",
      "|    Sebastian Bazley|2011-09-10T14:06:53Z|   null|    2|\n",
      "|     Niall Pemberton|2007-08-05T21:10:51Z|   null|    9|\n",
      "|     Niall Pemberton|2011-04-04T22:06:02Z|   null|    2|\n",
      "|                 2)'|                null|   null|   16|\n",
      "|                 but|                null|   null|   10|\n",
      "|     Timothy O'Brien|2004-01-15T06:34:23Z|   null|    3|\n",
      "|Niall Kegan Pembe...|2007-07-31T18:13:25Z|   null|    4|\n",
      "+--------------------+--------------------+-------+-----+\n",
      "only showing top 20 rows\n",
      "\n"
     ]
    }
   ],
   "source": [
    "dup = git_commit.groupBy([\"COMMIT_HASH\",\"COMMIT_MESSAGE\",\"PARENTS\"]).count().filter(\"count > 1\")\n",
    "dup.show()"
   ]
  },
  {
   "cell_type": "markdown",
   "metadata": {
    "id": "xSwMcPb-iv7b"
   },
   "source": [
    "#### Check for missing values."
   ]
  },
  {
   "cell_type": "code",
   "execution_count": 9,
   "metadata": {
    "colab": {
     "base_uri": "https://localhost:8080/"
    },
    "executionInfo": {
     "elapsed": 1078,
     "status": "ok",
     "timestamp": 1632754304836,
     "user": {
      "displayName": "Marc Fuentes Oncins",
      "photoUrl": "https://lh3.googleusercontent.com/a/default-user=s64",
      "userId": "09065611977995448229"
     },
     "user_tz": -120
    },
    "id": "VqYA8Iliae4H",
    "outputId": "eb9423d6-e732-4c67-8209-f8e6a8f98225"
   },
   "outputs": [
    {
     "name": "stdout",
     "output_type": "stream",
     "text": [
      "+-----------+--------------+-------+\n",
      "|COMMIT_HASH|COMMIT_MESSAGE|PARENTS|\n",
      "+-----------+--------------+-------+\n",
      "|      34799|         38629| 184795|\n",
      "+-----------+--------------+-------+\n",
      "\n"
     ]
    }
   ],
   "source": [
    "git_commit.select([count(when(col(c).isNull(), c)).alias(c) for c in git_commit.columns]).show()"
   ]
  },
  {
   "cell_type": "code",
   "execution_count": 10,
   "metadata": {
    "colab": {
     "base_uri": "https://localhost:8080/"
    },
    "executionInfo": {
     "elapsed": 14,
     "status": "ok",
     "timestamp": 1632754304838,
     "user": {
      "displayName": "Marc Fuentes Oncins",
      "photoUrl": "https://lh3.googleusercontent.com/a/default-user=s64",
      "userId": "09065611977995448229"
     },
     "user_tz": -120
    },
    "id": "KwyPwuZYnfuR",
    "outputId": "e0045b74-4bf4-4907-c750-c668430fed1d"
   },
   "outputs": [
    {
     "name": "stdout",
     "output_type": "stream",
     "text": [
      "+-----------+--------------+-------+\n",
      "|COMMIT_HASH|COMMIT_MESSAGE|PARENTS|\n",
      "+-----------+--------------+-------+\n",
      "|       null|          null|   null|\n",
      "|       null|          null|   null|\n",
      "|       null|          null|   null|\n",
      "|       null|          null|   null|\n",
      "|       null|          null|   null|\n",
      "|       null|          null|   null|\n",
      "|       null|          null|   null|\n",
      "|       null|          null|   null|\n",
      "|       null|          null|   null|\n",
      "|       null|          null|   null|\n",
      "|       null|          null|   null|\n",
      "|       null|          null|   null|\n",
      "|       null|          null|   null|\n",
      "|       null|          null|   null|\n",
      "|       null|          null|   null|\n",
      "|       null|          null|   null|\n",
      "|       null|          null|   null|\n",
      "|       null|          null|   null|\n",
      "|       null|          null|   null|\n",
      "|       null|          null|   null|\n",
      "+-----------+--------------+-------+\n",
      "only showing top 20 rows\n",
      "\n"
     ]
    }
   ],
   "source": [
    "git_commit.filter(col(\"COMMIT_HASH\").isNull()).show()"
   ]
  },
  {
   "cell_type": "markdown",
   "metadata": {
    "id": "ZCl5KoWJpbu4"
   },
   "source": [
    "As \"COMMIT_HASH\" is our join key we can't use rows with a missing hash. The same for \"COMMIT_MESSAGE\" as we need to use it for the model and a null message is not useful."
   ]
  },
  {
   "cell_type": "code",
   "execution_count": 11,
   "metadata": {
    "id": "lzJwJBetomn3"
   },
   "outputs": [],
   "source": [
    "git_commit=git_commit.na.drop(subset=[\"COMMIT_HASH\"])\n",
    "git_commit=git_commit.na.drop(subset=[\"COMMIT_MESSAGE\"])"
   ]
  },
  {
   "cell_type": "code",
   "execution_count": 12,
   "metadata": {
    "colab": {
     "base_uri": "https://localhost:8080/"
    },
    "executionInfo": {
     "elapsed": 1036,
     "status": "ok",
     "timestamp": 1632754306079,
     "user": {
      "displayName": "Marc Fuentes Oncins",
      "photoUrl": "https://lh3.googleusercontent.com/a/default-user=s64",
      "userId": "09065611977995448229"
     },
     "user_tz": -120
    },
    "id": "VWDhdAKToJzy",
    "outputId": "d9bf3c2f-1422-4bbb-9d85-95cd7e56c678"
   },
   "outputs": [
    {
     "name": "stdout",
     "output_type": "stream",
     "text": [
      "+-----------+--------------+-------+\n",
      "|COMMIT_HASH|COMMIT_MESSAGE|PARENTS|\n",
      "+-----------+--------------+-------+\n",
      "|          0|             0| 146132|\n",
      "+-----------+--------------+-------+\n",
      "\n"
     ]
    }
   ],
   "source": [
    "git_commit.select([count(when(col(c).isNull(), c)).alias(c) for c in git_commit.columns]).show()"
   ]
  },
  {
   "cell_type": "markdown",
   "metadata": {
    "id": "JfS2V2SMbOCZ"
   },
   "source": [
    "## 2. GIT_COMMIT_CHANGES"
   ]
  },
  {
   "cell_type": "code",
   "execution_count": 13,
   "metadata": {
    "id": "86mERLnfbSYQ"
   },
   "outputs": [],
   "source": [
    "changes = changes.drop('PROJECT_ID')\n",
    "changes = changes.drop('DATE')\n",
    "changes = changes.drop('COMMITTER_ID')"
   ]
  },
  {
   "cell_type": "markdown",
   "metadata": {
    "id": "zbGmDxBegMnK"
   },
   "source": [
    "#### Check for duplicate rows."
   ]
  },
  {
   "cell_type": "code",
   "execution_count": 14,
   "metadata": {
    "colab": {
     "base_uri": "https://localhost:8080/"
    },
    "executionInfo": {
     "elapsed": 12326,
     "status": "ok",
     "timestamp": 1632754318393,
     "user": {
      "displayName": "Marc Fuentes Oncins",
      "photoUrl": "https://lh3.googleusercontent.com/a/default-user=s64",
      "userId": "09065611977995448229"
     },
     "user_tz": -120
    },
    "id": "oxHzss5ScDn1",
    "outputId": "0090401a-f284-45dc-8ce4-9ebe04bbdb37"
   },
   "outputs": [
    {
     "name": "stdout",
     "output_type": "stream",
     "text": [
      "DF has : 890223 rows\n",
      "Distinct DF has : 817121 rows\n"
     ]
    }
   ],
   "source": [
    "print(\"DF has :\",changes.count(),\"rows\")\n",
    "print(\"Distinct DF has :\",changes.distinct().count(),\"rows\")"
   ]
  },
  {
   "cell_type": "code",
   "execution_count": 15,
   "metadata": {
    "colab": {
     "base_uri": "https://localhost:8080/"
    },
    "executionInfo": {
     "elapsed": 10158,
     "status": "ok",
     "timestamp": 1632754328511,
     "user": {
      "displayName": "Marc Fuentes Oncins",
      "photoUrl": "https://lh3.googleusercontent.com/a/default-user=s64",
      "userId": "09065611977995448229"
     },
     "user_tz": -120
    },
    "id": "_DX_KSjJfIJj",
    "outputId": "27f5e367-d15d-43db-a94b-00307213a8fb"
   },
   "outputs": [
    {
     "name": "stdout",
     "output_type": "stream",
     "text": [
      "There are : 73102 duped rows\n"
     ]
    }
   ],
   "source": [
    "print(\"There are :\",changes.count()-changes.distinct().count(),\"duped rows\")"
   ]
  },
  {
   "cell_type": "markdown",
   "metadata": {
    "id": "Xnw2J4hOkqSz"
   },
   "source": [
    "The duplicates could be caused by the column dropping. To check so we will see the number of dupped rows of the original DF and the column filtered one."
   ]
  },
  {
   "cell_type": "code",
   "execution_count": 16,
   "metadata": {
    "id": "YVibNhTDkrGa"
   },
   "outputs": [],
   "source": [
    "changes_og = spark.read.csv('../data/GIT_COMMITS_CHANGES.csv',header=True)"
   ]
  },
  {
   "cell_type": "code",
   "execution_count": 17,
   "metadata": {
    "colab": {
     "base_uri": "https://localhost:8080/"
    },
    "executionInfo": {
     "elapsed": 21099,
     "status": "ok",
     "timestamp": 1632754349986,
     "user": {
      "displayName": "Marc Fuentes Oncins",
      "photoUrl": "https://lh3.googleusercontent.com/a/default-user=s64",
      "userId": "09065611977995448229"
     },
     "user_tz": -120
    },
    "id": "_SoKisTSkyfo",
    "outputId": "9286826d-125e-42b8-f4b6-f4804c9bf22f"
   },
   "outputs": [
    {
     "name": "stdout",
     "output_type": "stream",
     "text": [
      "There are : 72476 duped rows in the original DF\n",
      "There are : 73102 duped rows in the new DF\n"
     ]
    }
   ],
   "source": [
    "print(\"There are :\",changes_og.count()-changes_og.distinct().count(),\"duped rows in the original DF\")\n",
    "print(\"There are :\",changes.count()-changes.distinct().count(),\"duped rows in the new DF\")"
   ]
  },
  {
   "cell_type": "markdown",
   "metadata": {
    "id": "7_9eJiJ5gQus"
   },
   "source": [
    "Check the duped lines for possible patterns."
   ]
  },
  {
   "cell_type": "code",
   "execution_count": 18,
   "metadata": {
    "colab": {
     "base_uri": "https://localhost:8080/"
    },
    "executionInfo": {
     "elapsed": 7508,
     "status": "ok",
     "timestamp": 1632754357483,
     "user": {
      "displayName": "Marc Fuentes Oncins",
      "photoUrl": "https://lh3.googleusercontent.com/a/default-user=s64",
      "userId": "09065611977995448229"
     },
     "user_tz": -120
    },
    "id": "kr1dpsckdVCO",
    "outputId": "03f858b5-fd67-449c-de26-21704465ad2e"
   },
   "outputs": [
    {
     "name": "stdout",
     "output_type": "stream",
     "text": [
      "+--------------------+--------------------+-----------+-------------+--------------------+-----+\n",
      "|                FILE|         COMMIT_HASH|LINES_ADDED|LINES_REMOVED|                NOTE|count|\n",
      "+--------------------+--------------------+-----------+-------------+--------------------+-----+\n",
      "|  testing-1.0.tar.gz|dee0d5a300ee0ba02...|          0|            0|Merge from archiv...|    2|\n",
      "|get-relocated-art...|0314ca95cbd058011...|          0|            0|More directory mo...|    2|\n",
      "|newversion-artifa...|a05f42cc0ec53b094...|          0|            0|restructure accor...|    2|\n",
      "|v4-timestamped-sn...|58da8544b7419af03...|         11|            0|Branch for metada...|    2|\n",
      "|             pom.xml|58da8544b7419af03...|         99|            0|Branch for metada...|    2|\n",
      "|             pom.xml|58da8544b7419af03...|         80|            0|Branch for metada...|    2|\n",
      "|             pom.xml|58b08d0094b8f862a...|          1|            1|bump to 1.4-M3-SN...|   69|\n",
      "|test-not-updated-...|24f005ce96d72dc30...|          0|            0|Moving repository...|    2|\n",
      "|ManagedRepository...|d8f55d0c99feccb78...|          0|           56|Removing old API ...|    2|\n",
      "|          index.html|7afc301aa0c5b5d1b...|          0|          124|Documentation cle...|    3|\n",
      "|             pom.xml|42dff0a71b29f8c07...|          2|            2|CAY-1882 Porting ...|    3|\n",
      "|             pom.xml|9c25d0c3effb077e9...|          0|           45|Update docs  - up...|    5|\n",
      "|             pom.xml|0e50b42a6e5892fd7...|          1|            1|[maven-release-pl...|   58|\n",
      "|php_thrift_protoc...|cf997a45c6a79ff66...|          0|          361|[thrift] PHP thri...|    2|\n",
      "|          Dockerfile|c2c1e1d709e65d373...|          1|            1|Change docker bui...|    2|\n",
      "|   gradle.properties|3fc0b8d061fb1adca...|          1|            1|Version number al...|    2|\n",
      "|TestRCFileMapRedu...|7d56abaf9b4a0e3e3...|        247|            0|Moving HCatalog i...|   11|\n",
      "|RCFileMapReduceOu...|7d56abaf9b4a0e3e3...|        105|            0|Moving HCatalog i...|    6|\n",
      "|JSONCreateTableMe...|7d56abaf9b4a0e3e3...|         74|            0|Moving HCatalog i...|    6|\n",
      "|existing_deployer...|7d56abaf9b4a0e3e3...|         42|            0|Moving HCatalog i...|    6|\n",
      "+--------------------+--------------------+-----------+-------------+--------------------+-----+\n",
      "only showing top 20 rows\n",
      "\n"
     ]
    }
   ],
   "source": [
    "dup = changes.groupBy([\"FILE\",\"COMMIT_HASH\",\"LINES_ADDED\",\"LINES_REMOVED\",\"NOTE\"]).count().filter(\"count > 1\")\n",
    "dup.show()"
   ]
  },
  {
   "cell_type": "markdown",
   "metadata": {
    "id": "5dHh3NvWgOoI"
   },
   "source": [
    "#### Check for missing values"
   ]
  },
  {
   "cell_type": "code",
   "execution_count": 19,
   "metadata": {
    "colab": {
     "base_uri": "https://localhost:8080/"
    },
    "executionInfo": {
     "elapsed": 3782,
     "status": "ok",
     "timestamp": 1632754361257,
     "user": {
      "displayName": "Marc Fuentes Oncins",
      "photoUrl": "https://lh3.googleusercontent.com/a/default-user=s64",
      "userId": "09065611977995448229"
     },
     "user_tz": -120
    },
    "id": "Y8woJrEbbWvu",
    "outputId": "a9191626-d348-4ff8-832a-3845b4ed53f3"
   },
   "outputs": [
    {
     "name": "stdout",
     "output_type": "stream",
     "text": [
      "+-----+-----------+-----------+-------------+-----+\n",
      "| FILE|COMMIT_HASH|LINES_ADDED|LINES_REMOVED| NOTE|\n",
      "+-----+-----------+-----------+-------------+-----+\n",
      "|32481|      32481|      32481|        32481|32481|\n",
      "+-----+-----------+-----------+-------------+-----+\n",
      "\n"
     ]
    }
   ],
   "source": [
    "changes.select([count(when(col(c).isNull(), c)).alias(c) for c in changes.columns]).show()"
   ]
  },
  {
   "cell_type": "markdown",
   "metadata": {
    "id": "vrVp2ISqqlRk"
   },
   "source": [
    "As we can see the rows that are missing are comprised completely by null values, we will remove them."
   ]
  },
  {
   "cell_type": "code",
   "execution_count": 20,
   "metadata": {
    "id": "_2bq2hqlqUys"
   },
   "outputs": [],
   "source": [
    "changes=changes.na.drop(\"all\")"
   ]
  },
  {
   "cell_type": "code",
   "execution_count": 21,
   "metadata": {
    "colab": {
     "base_uri": "https://localhost:8080/"
    },
    "executionInfo": {
     "elapsed": 3600,
     "status": "ok",
     "timestamp": 1632754364846,
     "user": {
      "displayName": "Marc Fuentes Oncins",
      "photoUrl": "https://lh3.googleusercontent.com/a/default-user=s64",
      "userId": "09065611977995448229"
     },
     "user_tz": -120
    },
    "id": "NrmMx3iNqXlw",
    "outputId": "03e8a932-d008-4a73-d293-fe4aa9aa4583"
   },
   "outputs": [
    {
     "name": "stdout",
     "output_type": "stream",
     "text": [
      "+----+-----------+-----------+-------------+----+\n",
      "|FILE|COMMIT_HASH|LINES_ADDED|LINES_REMOVED|NOTE|\n",
      "+----+-----------+-----------+-------------+----+\n",
      "|   0|          0|          0|            0|   0|\n",
      "+----+-----------+-----------+-------------+----+\n",
      "\n"
     ]
    }
   ],
   "source": [
    "changes.select([count(when(col(c).isNull(), c)).alias(c) for c in changes.columns]).show()"
   ]
  },
  {
   "cell_type": "markdown",
   "metadata": {
    "id": "mLD5U0VEbuqv"
   },
   "source": [
    "## 3. REFACTORING_MINER"
   ]
  },
  {
   "cell_type": "code",
   "execution_count": 22,
   "metadata": {
    "colab": {
     "base_uri": "https://localhost:8080/",
     "height": 163
    },
    "executionInfo": {
     "elapsed": 255,
     "status": "error",
     "timestamp": 1633439604608,
     "user": {
      "displayName": "Marc Fuentes Oncins",
      "photoUrl": "https://lh3.googleusercontent.com/a/default-user=s64",
      "userId": "09065611977995448229"
     },
     "user_tz": -120
    },
    "id": "0PdKARFEbuIW",
    "outputId": "770eb4d3-eb96-42c5-90d6-27d4319e4705"
   },
   "outputs": [],
   "source": [
    "ref_miner = ref_miner.drop('PROJECT_ID')"
   ]
  },
  {
   "cell_type": "markdown",
   "metadata": {
    "id": "nQGweusmjLDZ"
   },
   "source": [
    "#### Check for duplicated rows."
   ]
  },
  {
   "cell_type": "code",
   "execution_count": 23,
   "metadata": {
    "executionInfo": {
     "elapsed": 8,
     "status": "aborted",
     "timestamp": 1633439604603,
     "user": {
      "displayName": "Marc Fuentes Oncins",
      "photoUrl": "https://lh3.googleusercontent.com/a/default-user=s64",
      "userId": "09065611977995448229"
     },
     "user_tz": -120
    },
    "id": "DYMnBMxAjOeA"
   },
   "outputs": [
    {
     "name": "stdout",
     "output_type": "stream",
     "text": [
      "DF has : 37226 rows\n",
      "Distinct DF has : 37100 rows\n"
     ]
    }
   ],
   "source": [
    "print(\"DF has :\",ref_miner.count(),\"rows\")\n",
    "print(\"Distinct DF has :\",ref_miner.distinct().count(),\"rows\")"
   ]
  },
  {
   "cell_type": "code",
   "execution_count": 24,
   "metadata": {
    "executionInfo": {
     "elapsed": 9,
     "status": "aborted",
     "timestamp": 1633439604604,
     "user": {
      "displayName": "Marc Fuentes Oncins",
      "photoUrl": "https://lh3.googleusercontent.com/a/default-user=s64",
      "userId": "09065611977995448229"
     },
     "user_tz": -120
    },
    "id": "G8vIKe4YjYd9"
   },
   "outputs": [
    {
     "name": "stdout",
     "output_type": "stream",
     "text": [
      "There are : 126 duped rows\n"
     ]
    }
   ],
   "source": [
    "print(\"There are :\",ref_miner.count()-ref_miner.distinct().count(),\"duped rows\")"
   ]
  },
  {
   "cell_type": "markdown",
   "metadata": {
    "id": "aMDvq7EMlPkY"
   },
   "source": [
    "The duplicates could be caused by the column dropping. To check so we will see the number of dupped rows of the original DF and the column filtered one."
   ]
  },
  {
   "cell_type": "code",
   "execution_count": 25,
   "metadata": {
    "executionInfo": {
     "elapsed": 10,
     "status": "aborted",
     "timestamp": 1633439604605,
     "user": {
      "displayName": "Marc Fuentes Oncins",
      "photoUrl": "https://lh3.googleusercontent.com/a/default-user=s64",
      "userId": "09065611977995448229"
     },
     "user_tz": -120
    },
    "id": "4C0DLGaElP-Q"
   },
   "outputs": [],
   "source": [
    "ref_miner_og = spark.read.csv('../data/REFACTORING_MINER.csv',header=True)"
   ]
  },
  {
   "cell_type": "code",
   "execution_count": 26,
   "metadata": {
    "executionInfo": {
     "elapsed": 11,
     "status": "aborted",
     "timestamp": 1633439604606,
     "user": {
      "displayName": "Marc Fuentes Oncins",
      "photoUrl": "https://lh3.googleusercontent.com/a/default-user=s64",
      "userId": "09065611977995448229"
     },
     "user_tz": -120
    },
    "id": "cgLofDlXlVMD"
   },
   "outputs": [
    {
     "name": "stdout",
     "output_type": "stream",
     "text": [
      "There are : 126 duped rows in the original DF\n",
      "There are : 126 duped rows in the new DF\n"
     ]
    }
   ],
   "source": [
    "print(\"There are :\",ref_miner_og.count()-ref_miner_og.distinct().count(),\"duped rows in the original DF\")\n",
    "print(\"There are :\",ref_miner.count()-ref_miner.distinct().count(),\"duped rows in the new DF\")"
   ]
  },
  {
   "cell_type": "markdown",
   "metadata": {
    "id": "gBuXX247jlsp"
   },
   "source": [
    "Check the duped lines for possible patterns."
   ]
  },
  {
   "cell_type": "code",
   "execution_count": 27,
   "metadata": {
    "executionInfo": {
     "elapsed": 10,
     "status": "aborted",
     "timestamp": 1633439604606,
     "user": {
      "displayName": "Marc Fuentes Oncins",
      "photoUrl": "https://lh3.googleusercontent.com/a/default-user=s64",
      "userId": "09065611977995448229"
     },
     "user_tz": -120
    },
    "id": "CtKrHKC5jmPl"
   },
   "outputs": [
    {
     "name": "stdout",
     "output_type": "stream",
     "text": [
      "+--------------------+-------------------+--------------------+-----+\n",
      "|         COMMIT_HASH|   REFACTORING_TYPE|  REFACTORING_DETAIL|count|\n",
      "+--------------------+-------------------+--------------------+-----+\n",
      "|64bf00a0317c3c8a0...|  Pull Up Attribute|Pull Up Attribute...|    3|\n",
      "|f6ec5a7e86b3d5b9d...|  Pull Up Attribute|Pull Up Attribute...|    3|\n",
      "|f56609efad6393b10...|     Move Attribute|Move Attribute\tpr...|    3|\n",
      "|316f95271bc1c676b...|     Move Attribute|Move Attribute\tpu...|    3|\n",
      "|f56609efad6393b10...|     Move Attribute|Move Attribute\tpr...|    3|\n",
      "|f56609efad6393b10...|     Move Attribute|Move Attribute\tpr...|    3|\n",
      "|e26eac7e06325ef51...|     Move Attribute|Move Attribute\tpr...|    3|\n",
      "|4b9ef913f999b1d4f...|Push Down Attribute|Push Down Attribu...|    3|\n",
      "|f6ec5a7e86b3d5b9d...|  Pull Up Attribute|Pull Up Attribute...|    3|\n",
      "|ff06852acdea7695d...|Push Down Attribute|Push Down Attribu...|    3|\n",
      "|423f26e7564f3e2c0...|  Pull Up Attribute|Pull Up Attribute...|    3|\n",
      "|f56609efad6393b10...|     Move Attribute|Move Attribute\tpr...|    3|\n",
      "|44bc8e793969d4a14...|  Pull Up Attribute|Pull Up Attribute...|    3|\n",
      "|bf34387459021c5c6...|  Pull Up Attribute|Pull Up Attribute...|    3|\n",
      "|f56609efad6393b10...|     Move Attribute|Move Attribute\tpr...|    3|\n",
      "|44bc8e793969d4a14...|  Pull Up Attribute|Pull Up Attribute...|    3|\n",
      "|dd76a49078b4ea115...|  Pull Up Attribute|Pull Up Attribute...|    3|\n",
      "|316f95271bc1c676b...|     Move Attribute|Move Attribute\tpu...|    3|\n",
      "|44bc8e793969d4a14...|  Pull Up Attribute|Pull Up Attribute...|    3|\n",
      "|f56609efad6393b10...|     Move Attribute|Move Attribute\tpr...|    3|\n",
      "+--------------------+-------------------+--------------------+-----+\n",
      "only showing top 20 rows\n",
      "\n"
     ]
    }
   ],
   "source": [
    "dup = ref_miner.groupBy([\"COMMIT_HASH\",\"REFACTORING_TYPE\",\"REFACTORING_DETAIL\"]).count().filter(\"count > 1\")\n",
    "dup.show()"
   ]
  },
  {
   "cell_type": "code",
   "execution_count": 28,
   "metadata": {
    "executionInfo": {
     "elapsed": 10,
     "status": "aborted",
     "timestamp": 1633439604606,
     "user": {
      "displayName": "Marc Fuentes Oncins",
      "photoUrl": "https://lh3.googleusercontent.com/a/default-user=s64",
      "userId": "09065611977995448229"
     },
     "user_tz": -120
    },
    "id": "Tb5CnSZNj8hI"
   },
   "outputs": [
    {
     "name": "stdout",
     "output_type": "stream",
     "text": [
      "+-------+--------------------+-------------------+--------------------+-----+\n",
      "|summary|         COMMIT_HASH|   REFACTORING_TYPE|  REFACTORING_DETAIL|count|\n",
      "+-------+--------------------+-------------------+--------------------+-----+\n",
      "|  count|                  63|                 63|                  63|   63|\n",
      "|   mean|                null|               null|                null|  3.0|\n",
      "| stddev|                null|               null|                null|  0.0|\n",
      "|    min|0a1b1d317f0dfcd8d...|     Move Attribute|Move Attribute\tpa...|    3|\n",
      "|    25%|                null|               null|                null|    3|\n",
      "|    50%|                null|               null|                null|    3|\n",
      "|    75%|                null|               null|                null|    3|\n",
      "|    max|ff06852acdea7695d...|Push Down Attribute|Push Down Attribu...|    3|\n",
      "+-------+--------------------+-------------------+--------------------+-----+\n",
      "\n"
     ]
    }
   ],
   "source": [
    "dup.summary().show()"
   ]
  },
  {
   "cell_type": "markdown",
   "metadata": {
    "id": "TSxg688Lj2gO"
   },
   "source": [
    "In this case the count number seems to be always 3. There seems to be no explanation."
   ]
  },
  {
   "cell_type": "markdown",
   "metadata": {
    "id": "z5S0Br4yjI93"
   },
   "source": [
    "#### Check for duplicate values."
   ]
  },
  {
   "cell_type": "code",
   "execution_count": 29,
   "metadata": {
    "executionInfo": {
     "elapsed": 11,
     "status": "aborted",
     "timestamp": 1633439604607,
     "user": {
      "displayName": "Marc Fuentes Oncins",
      "photoUrl": "https://lh3.googleusercontent.com/a/default-user=s64",
      "userId": "09065611977995448229"
     },
     "user_tz": -120
    },
    "id": "eWwvjPxLbzqA"
   },
   "outputs": [
    {
     "name": "stdout",
     "output_type": "stream",
     "text": [
      "+-----------+----------------+------------------+\n",
      "|COMMIT_HASH|REFACTORING_TYPE|REFACTORING_DETAIL|\n",
      "+-----------+----------------+------------------+\n",
      "|          1|               1|                 1|\n",
      "+-----------+----------------+------------------+\n",
      "\n"
     ]
    }
   ],
   "source": [
    "ref_miner.select([count(when(col(c).isNull(), c)).alias(c) for c in ref_miner.columns]).show()"
   ]
  },
  {
   "cell_type": "code",
   "execution_count": 30,
   "metadata": {
    "executionInfo": {
     "elapsed": 11,
     "status": "aborted",
     "timestamp": 1633439604607,
     "user": {
      "displayName": "Marc Fuentes Oncins",
      "photoUrl": "https://lh3.googleusercontent.com/a/default-user=s64",
      "userId": "09065611977995448229"
     },
     "user_tz": -120
    },
    "id": "aFLCmgDnq6Tq"
   },
   "outputs": [
    {
     "name": "stdout",
     "output_type": "stream",
     "text": [
      "+-----------+----------------+------------------+\n",
      "|COMMIT_HASH|REFACTORING_TYPE|REFACTORING_DETAIL|\n",
      "+-----------+----------------+------------------+\n",
      "|       null|            null|              null|\n",
      "+-----------+----------------+------------------+\n",
      "\n"
     ]
    }
   ],
   "source": [
    "ref_miner.filter(col(\"COMMIT_HASH\").isNull()).show()"
   ]
  },
  {
   "cell_type": "code",
   "execution_count": 31,
   "metadata": {
    "executionInfo": {
     "elapsed": 11,
     "status": "aborted",
     "timestamp": 1633439604607,
     "user": {
      "displayName": "Marc Fuentes Oncins",
      "photoUrl": "https://lh3.googleusercontent.com/a/default-user=s64",
      "userId": "09065611977995448229"
     },
     "user_tz": -120
    },
    "id": "ihUrqg5zrAiL"
   },
   "outputs": [],
   "source": [
    "ref_miner = ref_miner.na.drop(\"all\")"
   ]
  },
  {
   "cell_type": "code",
   "execution_count": 32,
   "metadata": {
    "executionInfo": {
     "elapsed": 11,
     "status": "aborted",
     "timestamp": 1633439604608,
     "user": {
      "displayName": "Marc Fuentes Oncins",
      "photoUrl": "https://lh3.googleusercontent.com/a/default-user=s64",
      "userId": "09065611977995448229"
     },
     "user_tz": -120
    },
    "id": "kxBG7LUdrEQG"
   },
   "outputs": [
    {
     "name": "stdout",
     "output_type": "stream",
     "text": [
      "+-----------+----------------+------------------+\n",
      "|COMMIT_HASH|REFACTORING_TYPE|REFACTORING_DETAIL|\n",
      "+-----------+----------------+------------------+\n",
      "|          0|               0|                 0|\n",
      "+-----------+----------------+------------------+\n",
      "\n"
     ]
    }
   ],
   "source": [
    "ref_miner.select([count(when(col(c).isNull(), c)).alias(c) for c in ref_miner.columns]).show()"
   ]
  }
 ],
 "metadata": {
  "colab": {
   "collapsed_sections": [
    "lfDtyZoPrvvz",
    "Ty-y69cTaTt6",
    "xSwMcPb-iv7b",
    "JfS2V2SMbOCZ",
    "zbGmDxBegMnK",
    "5dHh3NvWgOoI",
    "mLD5U0VEbuqv",
    "nQGweusmjLDZ",
    "z5S0Br4yjI93"
   ],
   "name": "Data_quality.ipynb",
   "provenance": []
  },
  "kernelspec": {
   "display_name": "Python 3",
   "language": "python",
   "name": "python3"
  },
  "language_info": {
   "codemirror_mode": {
    "name": "ipython",
    "version": 3
   },
   "file_extension": ".py",
   "mimetype": "text/x-python",
   "name": "python",
   "nbconvert_exporter": "python",
   "pygments_lexer": "ipython3",
   "version": "3.8.5"
  }
 },
 "nbformat": 4,
 "nbformat_minor": 1
}
